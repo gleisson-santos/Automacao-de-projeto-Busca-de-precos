{
 "cells": [
  {
   "cell_type": "markdown",
   "metadata": {},
   "source": [
    "# Solução - Projeto Automação Web - Busca de Preços"
   ]
  },
  {
   "cell_type": "code",
   "execution_count": 65,
   "metadata": {},
   "outputs": [
    {
     "name": "stdout",
     "output_type": "stream",
     "text": [
      "\n"
     ]
    },
    {
     "name": "stderr",
     "output_type": "stream",
     "text": [
      "[WDM] - ====== WebDriver manager ======\n",
      "[WDM] - Current google-chrome version is 103.0.5060\n",
      "[WDM] - Get LATEST chromedriver version for 103.0.5060 google-chrome\n",
      "[WDM] - Driver [C:\\Users\\55719\\.wdm\\drivers\\chromedriver\\win32\\103.0.5060.134\\chromedriver.exe] found in cache\n",
      "C:\\Users\\55719\\AppData\\Local\\Temp\\ipykernel_11144\\3615752761.py:11: DeprecationWarning: executable_path has been deprecated, please pass in a Service object\n",
      "  driver = webdriver.Chrome(ChromeDriverManager().install(), options = options)\n"
     ]
    }
   ],
   "source": [
    "from selenium.webdriver.common.keys import Keys\n",
    "from selenium.webdriver.common.by import By\n",
    "from selenium.webdriver.chrome.options import Options\n",
    "from webdriver_manager.chrome import ChromeDriverManager\n",
    "from selenium import webdriver\n",
    "import pandas as pd\n",
    "\n",
    "options = webdriver.ChromeOptions()\n",
    "options.add_argument(\"--headless\")\n",
    "driver = webdriver.Chrome(ChromeDriverManager().install(), options = options) #rodar em modo off \n",
    "\n",
    "\n",
    "\n",
    "\n",
    "produtos = pd.read_excel(r'Produtos.xlsx')\n",
    "produtos = produtos.fillna('-')\n",
    "#display(produtos)\n",
    "\n",
    "def transformar_texto(texto):\n",
    "    return float(texto.replace('R$', '').replace('.', '').replace(',', '.'))\n"
   ]
  },
  {
   "cell_type": "code",
   "execution_count": 10,
   "metadata": {},
   "outputs": [
    {
     "name": "stdout",
     "output_type": "stream",
     "text": [
      "3879.0\n",
      "1998.0\n"
     ]
    }
   ],
   "source": [
    "for i, linha in produtos.iterrows():\n",
    "    driver.get(linha['Amazon'])\n",
    "    #pegar preço amazon\n",
    "    try:\n",
    "        preco_amazon = driver.find_element(By.XPATH, '//*[@id=\"corePriceDisplay_desktop_feature_div\"]/div[1]/span/span[2]/span[2]').text\n",
    "        preco_amazon = transformar_texto(preco_amazon)\n",
    "    except:\n",
    "        try:\n",
    "            preco_amazon = driver.driver.find_element(By.CSS_SELECTOR, \"label[title='a-price-whole'] \").text\n",
    "            preco_amazon = transformar_texto(preco_amazon)\n",
    "        except:\n",
    "            print('Produto {} não disponível na Amazon'.format(linha['Link Produto']))\n",
    "            preco_amazon = linha['Preço Original'] * 3\n",
    "    print(preco_amazon)"
   ]
  },
  {
   "cell_type": "code",
   "execution_count": 11,
   "metadata": {},
   "outputs": [
    {
     "name": "stdout",
     "output_type": "stream",
     "text": [
      "Produto Smart TV LED 50'' LG Ultra HD 4K Thinq AI não disponível na Lojas Americanas\n",
      "8700\n"
     ]
    }
   ],
   "source": [
    "    #pegar o preço da lame\n",
    "    driver.get(linha['Lojas Americanas'])\n",
    "    try:\n",
    "        preco_lame = driver.find_element(By.XPATH, '//*[@id=\"rsyswpsdk\"]/div/main/div[3]/div[2]/div[1]/div[2]/div').text\n",
    "        preco_lame = transformar_texto(preco_lame)\n",
    "    except:\n",
    "        print('Produto {} não disponível na Lojas Americanas'.format(linha['Link Produto']))\n",
    "        preco_lame = linha['Preço Original'] * 3\n",
    "    print(preco_lame)"
   ]
  },
  {
   "cell_type": "code",
   "execution_count": 12,
   "metadata": {},
   "outputs": [
    {
     "name": "stdout",
     "output_type": "stream",
     "text": [
      "Produto Smart TV LED 50'' LG Ultra HD 4K Thinq AI não disponível na Magazine Luiza\n",
      "8700\n"
     ]
    }
   ],
   "source": [
    "    #pegar o preço da mglu\n",
    "    driver.get(linha['Magazine Luiza'])\n",
    "    try:\n",
    "        preco_lame = driver.find_element(By.XPATH, '//*[@id=\"__next\"]/div/main/section[4]/div[4]/div/div/div/p[2]').text       \n",
    "        preco_mglu = transformar_texto(preco_mglu)\n",
    "    except:\n",
    "        try:\n",
    "            preco_amazon = driver.find_element(By.ID,'price-value').text\n",
    "            preco_amazon = transformar_texto(preco_amazon)\n",
    "        except:\n",
    "            print('Produto {} não disponível na Magazine Luiza'.format(linha['Link Produto']))\n",
    "            preco_mglu = linha['Preço Original'] * 3\n",
    "    print(preco_mglu)"
   ]
  },
  {
   "cell_type": "code",
   "execution_count": 66,
   "metadata": {},
   "outputs": [
    {
     "name": "stdout",
     "output_type": "stream",
     "text": [
      "Produto iPhone 11 Apple 64GB Preto não disponível na Lojas Americanas\n",
      "Produto Smart TV LED 50'' LG Ultra HD 4K Thinq AI não disponível na Lojas Americanas\n",
      "Produto Smart TV LED 50'' LG Ultra HD 4K Thinq AI não disponível na Magazine Luiza\n"
     ]
    }
   ],
   "source": [
    "#driver.set_window_position(-10000,0)\n",
    "\n",
    "enviar_email = False\n",
    "desconto_min = 0.2\n",
    "\n",
    "for i, linha in produtos.iterrows():\n",
    "    driver.get(linha['Amazon'])\n",
    "    #pegar preço amazon\n",
    "    try:\n",
    "        preco_amazon = driver.find_element(By.XPATH, '//*[@id=\"corePriceDisplay_desktop_feature_div\"]/div[1]/span/span[2]/span[2]').text\n",
    "        preco_amazon = transformar_texto(preco_amazon)\n",
    "    except:\n",
    "        try:\n",
    "            preco_amazon = driver.driver.find_element(By.CSS_SELECTOR, \"label[title='a-price-whole'] \").text\n",
    "            preco_amazon = transformar_texto(preco_amazon)\n",
    "        except:\n",
    "            print('Produto {} não disponível na Amazon'.format(linha['Link Produto']))\n",
    "            preco_amazon = linha['Preço Original'] * 3 #apneas para por o produto como o mais caro para não ser igual aos demais\n",
    "\n",
    "\n",
    "    #pegar o preço da lame\n",
    "    driver.get(linha['Lojas Americanas'])\n",
    "    try:\n",
    "        preco_lame = driver.find_element(By.XPATH, '//*[@id=\"rsyswpsdk\"]/div/main/div[3]/div[2]/div[1]/div[2]/div').text\n",
    "        preco_lame = transformar_texto(preco_lame)\n",
    "    except:\n",
    "        print('Produto {} não disponível na Lojas Americanas'.format(linha['Link Produto']))\n",
    "        preco_lame = linha['Preço Original'] * 3\n",
    "\n",
    "        \n",
    "    #pegar o preço da mglu\n",
    "    driver.get(linha['Magazine Luiza'])\n",
    "    try:\n",
    "        preco_mglu = driver.find_element(By.XPATH, '//*[@id=\"__next\"]/div/main/section[4]/div[4]/div/div/div/p[2]').text       \n",
    "        preco_mglu = transformar_texto(preco_mglu)\n",
    "    except:\n",
    "        try:\n",
    "            preco_mglu = driver.find_element(By.ID,'price-value').text\n",
    "            preco_mglu = transformar_texto(preco_mglu)\n",
    "        except:\n",
    "            print('Produto {} não disponível na Magazine Luiza'.format(linha['Link Produto']))\n",
    "            preco_mglu = linha['Preço Original'] * 3\n",
    "   \n",
    "            \n",
    "    #print(preco_mglu, preco_lame, preco_amazon )        \n",
    "\n",
    "    preco_original = linha['Preço Original']\n",
    "    \n",
    "    lista_precos = [(preco_amazon, 'Amazon'), (preco_lame, 'Lojas Americanas'), (preco_mglu, 'Magazine Luiza'), (preco_original, 'Original')]\n",
    "    \n",
    "    lista_precos.sort()\n",
    "    #print(lista_precos)\n",
    "\n",
    "    produtos.loc[i, 'Preço Atual'] = lista_precos[0][0] #pegar o indice e coluna a ser preenchida, vai receber o inicio da tupla\n",
    "    produtos.loc[i, 'Local'] = lista_precos[0][1]\n",
    "    \n",
    "    if lista_precos[0][0] <= preco_original*(1-desconto_min): #é o mesmo que 0.8 de desconto\n",
    "        enviar_email = True"
   ]
  },
  {
   "cell_type": "code",
   "execution_count": 43,
   "metadata": {
    "collapsed": true
   },
   "outputs": [
    {
     "data": {
      "text/html": [
       "<div>\n",
       "<style scoped>\n",
       "    .dataframe tbody tr th:only-of-type {\n",
       "        vertical-align: middle;\n",
       "    }\n",
       "\n",
       "    .dataframe tbody tr th {\n",
       "        vertical-align: top;\n",
       "    }\n",
       "\n",
       "    .dataframe thead th {\n",
       "        text-align: right;\n",
       "    }\n",
       "</style>\n",
       "<table border=\"1\" class=\"dataframe\">\n",
       "  <thead>\n",
       "    <tr style=\"text-align: right;\">\n",
       "      <th></th>\n",
       "      <th>Unnamed: 0</th>\n",
       "      <th>Link Produto</th>\n",
       "      <th>Amazon</th>\n",
       "      <th>Lojas Americanas</th>\n",
       "      <th>Magazine Luiza</th>\n",
       "      <th>Preço Original</th>\n",
       "      <th>Preço Atual</th>\n",
       "      <th>Local</th>\n",
       "    </tr>\n",
       "  </thead>\n",
       "  <tbody>\n",
       "    <tr>\n",
       "      <th>0</th>\n",
       "      <td>0</td>\n",
       "      <td>iPhone 11 Apple 64GB Preto</td>\n",
       "      <td>https://www.amazon.com.br/Apple-MHDH3BR-A-iPho...</td>\n",
       "      <td>https://www.americanas.com.br/produto/16141322...</td>\n",
       "      <td>https://www.magazineluiza.com.br/iphone-11-app...</td>\n",
       "      <td>5297</td>\n",
       "      <td>3239.1</td>\n",
       "      <td>Magazine Luiza</td>\n",
       "    </tr>\n",
       "    <tr>\n",
       "      <th>1</th>\n",
       "      <td>1</td>\n",
       "      <td>Smart TV LED 50'' LG Ultra HD 4K Thinq AI</td>\n",
       "      <td>https://www.amazon.com.br/Smart-LG-3LM631C0SB-...</td>\n",
       "      <td>https://www.americanas.com.br/produto/30685497...</td>\n",
       "      <td>https://www.magazineluiza.com.br/smart-tv-50-4...</td>\n",
       "      <td>2900</td>\n",
       "      <td>1998.0</td>\n",
       "      <td>Amazon</td>\n",
       "    </tr>\n",
       "  </tbody>\n",
       "</table>\n",
       "</div>"
      ],
      "text/plain": [
       "   Unnamed: 0                               Link Produto  \\\n",
       "0           0                 iPhone 11 Apple 64GB Preto   \n",
       "1           1  Smart TV LED 50'' LG Ultra HD 4K Thinq AI   \n",
       "\n",
       "                                              Amazon  \\\n",
       "0  https://www.amazon.com.br/Apple-MHDH3BR-A-iPho...   \n",
       "1  https://www.amazon.com.br/Smart-LG-3LM631C0SB-...   \n",
       "\n",
       "                                    Lojas Americanas  \\\n",
       "0  https://www.americanas.com.br/produto/16141322...   \n",
       "1  https://www.americanas.com.br/produto/30685497...   \n",
       "\n",
       "                                      Magazine Luiza  Preço Original  \\\n",
       "0  https://www.magazineluiza.com.br/iphone-11-app...            5297   \n",
       "1  https://www.magazineluiza.com.br/smart-tv-50-4...            2900   \n",
       "\n",
       "  Preço Atual           Local  \n",
       "0      3239.1  Magazine Luiza  \n",
       "1      1998.0          Amazon  "
      ]
     },
     "metadata": {},
     "output_type": "display_data"
    }
   ],
   "source": [
    "display(produtos)"
   ]
  },
  {
   "cell_type": "code",
   "execution_count": 42,
   "metadata": {},
   "outputs": [
    {
     "name": "stdout",
     "output_type": "stream",
     "text": [
      "Encontrado produtos em Promoção\n"
     ]
    }
   ],
   "source": [
    "import win32com.client as win32\n",
    "import pathlib\n",
    "outlook = win32.Dispatch('outlook.application')\n",
    "caminho = pathlib.Path(r'C:\\Users\\55719\\Desktop\\Projetos Python\\Projeto #4 - Automação de projeto Busca de preços')\n",
    "\n",
    "#salvar o arquivo\n",
    "produtos.to_excel('Produtos.xlsx')\n",
    "#enviar email\n",
    "\n",
    "if enviar_email: #comparação boleana, por padrão True\n",
    "    #enviar email\n",
    "    mail = outlook.CreateItem(0)\n",
    "    mail.To = 'jsgleisson@gmail.com'\n",
    "    mail.Subject = f'Produto(s) Encontrado(s) com mais de {desconto_min:.0%} de Desconto'\n",
    "    \n",
    "    #filtrar a tabela de produtos\n",
    "    tabela_filtrada = produtos.loc[produtos['Preço Atual'] <= produtos['Preço Original']*(1-desconto_min), :] # : é igual a todas as colunas\n",
    "    \n",
    "    mail.HTMLBody = f'<p>Esses sãos os produtos com mais de {desconto_min:.0%} de desconto</p>{tabela_filtrada.to_html()}'\n",
    "    \n",
    "    #Enviar anexo\n",
    "    attachment  = pathlib.Path.cwd() / caminho / f'Produtos.xlsx'\n",
    "    mail.Attachments.Add(str(attachment))\n",
    "\n",
    "    mail.Send()\n",
    "    \n",
    "#finalizando o código\n",
    "print('Encontrado produtos em Promoção')\n",
    "driver.quit()"
   ]
  }
 ],
 "metadata": {
  "kernelspec": {
   "display_name": "Python 3 (ipykernel)",
   "language": "python",
   "name": "python3"
  },
  "language_info": {
   "codemirror_mode": {
    "name": "ipython",
    "version": 3
   },
   "file_extension": ".py",
   "mimetype": "text/x-python",
   "name": "python",
   "nbconvert_exporter": "python",
   "pygments_lexer": "ipython3",
   "version": "3.9.12"
  }
 },
 "nbformat": 4,
 "nbformat_minor": 4
}
